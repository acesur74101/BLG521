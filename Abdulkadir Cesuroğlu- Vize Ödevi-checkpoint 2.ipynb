{
 "cells": [
  {
   "cell_type": "code",
   "execution_count": null,
   "id": "95eafac7-7a31-4f21-9329-09957b87f37e",
   "metadata": {},
   "outputs": [],
   "source": [
    "#1\n"
   ]
  },
  {
   "cell_type": "code",
   "execution_count": 1,
   "id": "38ddedc9-7a61-4ce2-a446-da1bb4174ec8",
   "metadata": {},
   "outputs": [],
   "source": [
    "\n",
    "#  a Otel adinda bir sınıf tanımlayınız bu sınıfın başlatıcısı, rezervasyon bilgileirni saklayacak bir veri yapısı içermelidir.\n",
    "# veri yapısı benzersiz oda numaraları ve müşteri odalarından oluşmalıdır. bu veri yapısısa rezervasyonlar adını veriniz.\n",
    "class Otel:\n",
    "    def __init__(self): \n",
    "        self.rezervasyonlar = {} \n",
    "# b rezervasyon_ekle adında bir metot tanımlayınız bu metot oda numarası ve müşteri adı olmak üzere iki paramtere alacak ve bu bilgileri rezervasyonlar veri yapısına eklenecektir. \n",
    "    def rezervasyon_ekle(self, odaNumarasi, msuteriAdi):\n",
    "        self.rezervasyonlar[odaNumarasi] = msuteriAdi\n",
    "#c rezervasyon sil adında bir metot tanılayınız bu metot belirtilen oda numarasına ait rezervasyonu veri yapısından kaldıracaktır. oda nbulunmazsa bu oda numarasıyla rezrvasyon bulunamadı şeklinde bir uyarı vermelidri.\n",
    "    #bu uyarı f  string ile formatlanmalıdır. \n",
    "    def rezervasyon_sil(self, odaNumarasi):\n",
    "        if odaNumarasi in self.rezervasyonlar:\n",
    "            del self.rezervasyonlar[odaNumarasi]\n",
    "        else:\n",
    "            print(f'{odaNumarasi} oda numarasıyla rezervasyon bulunamadı.')\n",
    "# d rezervasyon güncelleme metotu\n",
    "    def rezervasyon_güncelle(self,odaNumarasi,musteriAdi):\n",
    "        if odaNumarasi in self.rezervasyonlar:\n",
    "            self.rezervasyonlar[odaNumarasi] = musteriAdi\n",
    "            print('İşlem tamamlandı.')\n",
    "        else:\n",
    "            print(f'{odaNumarasi} oda numarasıyla rezervasyon bulunamadı.')"
   ]
  },
  {
   "cell_type": "code",
   "execution_count": 2,
   "id": "efadf06f-0838-483b-98e5-1c7e10e722b3",
   "metadata": {},
   "outputs": [],
   "source": [
    "# e anayurt oteli nesnesini tanımlamak\n",
    "anayurt_oteli = Otel ()"
   ]
  },
  {
   "cell_type": "code",
   "execution_count": 3,
   "id": "2933edca-de23-49ff-aee7-8cdd38f0a32d",
   "metadata": {},
   "outputs": [],
   "source": [
    "# f rezervasyonları eklemek\n",
    "\n",
    "anayurt_oteli.rezervasyon_ekle('101','Ahmet Hamdi')\n",
    "anayurt_oteli.rezervasyon_ekle('102','Ihsan Anar')\n",
    "anayurt_oteli.rezervasyon_ekle('103','Cemal Seber')\n",
    "anayurt_oteli.rezervasyon_ekle('104','Gülten Akin')\n",
    "anayurt_oteli.rezervasyon_ekle('105','Sezai Bey')"
   ]
  },
  {
   "cell_type": "code",
   "execution_count": 4,
   "id": "33fa308b-2ad1-44d5-b3d6-43041edeaf69",
   "metadata": {},
   "outputs": [
    {
     "data": {
      "text/plain": [
       "{'101': 'Ahmet Hamdi',\n",
       " '102': 'Ihsan Anar',\n",
       " '103': 'Cemal Seber',\n",
       " '104': 'Gülten Akin',\n",
       " '105': 'Sezai Bey'}"
      ]
     },
     "execution_count": 4,
     "metadata": {},
     "output_type": "execute_result"
    }
   ],
   "source": [
    "# g rezervasyonları sorgulamak\n",
    "anayurt_oteli.rezervasyonlar"
   ]
  },
  {
   "cell_type": "code",
   "execution_count": 5,
   "id": "d6b47015-a8b2-4f6b-bb48-5c8dc037d5b5",
   "metadata": {},
   "outputs": [
    {
     "name": "stdout",
     "output_type": "stream",
     "text": [
      "İşlem tamamlandı.\n"
     ]
    }
   ],
   "source": [
    "# h sezai beyin bilgilerini güncellemek\n",
    "\n",
    "anayurt_oteli.rezervasyon_güncelle('105','Sezai Birinci')"
   ]
  },
  {
   "cell_type": "code",
   "execution_count": null,
   "id": "152cf86c-df18-4ca4-8b5b-b7789fc7e01d",
   "metadata": {},
   "outputs": [],
   "source": [
    "# 2 "
   ]
  },
  {
   "cell_type": "code",
   "execution_count": 19,
   "id": "85e3c5d5-01c5-4326-b646-53b19df3cc59",
   "metadata": {},
   "outputs": [],
   "source": [
    "#a müzik festivali classı\n",
    "class MüzikFestivali:\n",
    "    def __init__(self): \n",
    "        self.kullanilmisBiletNumaralari = set() \n",
    "\n",
    "    #b  bilet kullanma metotu\n",
    "    def bilet_kullan(self, bilet_no):\n",
    "        #mükerrer girişi engellemek için.\n",
    "        if bilet_no in self.kullanilmisBiletNumaralari: \n",
    "            print('Mükerrer Giriş, Girişe izin verilmedi.')\n",
    "        else:\n",
    "            self.kullanilmisBiletNumaralari.add(bilet_no)\n",
    "            print(f'{bilet_no} bilet başarıyla kaydedilmiştir.')"
   ]
  },
  {
   "cell_type": "code",
   "execution_count": 20,
   "id": "ec72b0cf-4a42-481f-9039-a529ccc89623",
   "metadata": {},
   "outputs": [],
   "source": [
    "# C nesne oluşturma\n",
    "\n",
    "festival_kontrol = MüzikFestivali() "
   ]
  },
  {
   "cell_type": "code",
   "execution_count": 21,
   "id": "68e6ac20-4b12-40c4-b8b7-84352ac6e690",
   "metadata": {},
   "outputs": [
    {
     "name": "stdout",
     "output_type": "stream",
     "text": [
      "5010 bilet kaydedilmiştir.\n"
     ]
    }
   ],
   "source": [
    "# d bilet giriş denemeleri\n",
    "festival_kontrol.bilet_kullan('5010')"
   ]
  },
  {
   "cell_type": "code",
   "execution_count": 22,
   "id": "5e7b2672-2285-40d7-bfd9-7ccb9380b281",
   "metadata": {},
   "outputs": [
    {
     "name": "stdout",
     "output_type": "stream",
     "text": [
      "5020 bilet kaydedilmiştir.\n"
     ]
    }
   ],
   "source": [
    "festival_kontrol.bilet_kullan('5020')"
   ]
  },
  {
   "cell_type": "code",
   "execution_count": 23,
   "id": "dea4f0f8-7f2c-4be5-ada6-cb1928be6059",
   "metadata": {},
   "outputs": [
    {
     "name": "stdout",
     "output_type": "stream",
     "text": [
      "5030 bilet kaydedilmiştir.\n"
     ]
    }
   ],
   "source": [
    "festival_kontrol.bilet_kullan('5030')"
   ]
  },
  {
   "cell_type": "code",
   "execution_count": 24,
   "id": "6e659598-4355-40eb-ab8f-981a6cb67634",
   "metadata": {},
   "outputs": [
    {
     "name": "stdout",
     "output_type": "stream",
     "text": [
      "Bu bilet numarası ile daha önce giriş yapılmıştır.\n"
     ]
    }
   ],
   "source": [
    "festival_kontrol.bilet_kullan('5010')"
   ]
  },
  {
   "cell_type": "code",
   "execution_count": 25,
   "id": "96255b86-0ed3-4468-8dce-878c4da9da04",
   "metadata": {},
   "outputs": [
    {
     "name": "stdout",
     "output_type": "stream",
     "text": [
      "5040 bilet kaydedilmiştir.\n"
     ]
    }
   ],
   "source": [
    "festival_kontrol.bilet_kullan('5040')"
   ]
  },
  {
   "cell_type": "code",
   "execution_count": 26,
   "id": "d6999423-bfb3-4072-9e29-370751da9825",
   "metadata": {},
   "outputs": [
    {
     "name": "stdout",
     "output_type": "stream",
     "text": [
      "Bu bilet numarası ile daha önce giriş yapılmıştır.\n"
     ]
    }
   ],
   "source": [
    "festival_kontrol.bilet_kullan('5030')"
   ]
  },
  {
   "cell_type": "code",
   "execution_count": 27,
   "id": "af45cd4d-a71b-4781-a598-cb5dc5127a47",
   "metadata": {},
   "outputs": [
    {
     "data": {
      "text/plain": [
       "{'5010', '5020', '5030', '5040'}"
      ]
     },
     "execution_count": 27,
     "metadata": {},
     "output_type": "execute_result"
    }
   ],
   "source": [
    "# e biletleri yazdırmak. \n",
    "\n",
    "festival_kontrol.kullanilmisBiletNumaralari"
   ]
  }
 ],
 "metadata": {
  "kernelspec": {
   "display_name": "Python 3 (ipykernel)",
   "language": "python",
   "name": "python3"
  },
  "language_info": {
   "codemirror_mode": {
    "name": "ipython",
    "version": 3
   },
   "file_extension": ".py",
   "mimetype": "text/x-python",
   "name": "python",
   "nbconvert_exporter": "python",
   "pygments_lexer": "ipython3",
   "version": "3.12.2"
  }
 },
 "nbformat": 4,
 "nbformat_minor": 5
}
